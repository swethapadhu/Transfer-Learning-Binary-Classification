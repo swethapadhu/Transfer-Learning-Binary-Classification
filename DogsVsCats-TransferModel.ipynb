{
 "cells": [
  {
   "cell_type": "markdown",
   "metadata": {},
   "source": [
    "### Binary Image Classification Model\n",
    "\n",
    "Built a binary image classifier model for dog/cat images using Transfer Learning. The InceptionV3 model (trained on ImageNet) was used as the pre-trained network and the model was fine tuned for the desired cat/dog dataset. The accuracy of the model was 92%"
   ]
  },
  {
   "cell_type": "code",
   "execution_count": 13,
   "metadata": {},
   "outputs": [],
   "source": [
    "from __future__ import print_function\n",
    "import keras\n",
    "from keras.models import Sequential, Model \n",
    "from keras import optimizers\n",
    "from keras.preprocessing.image import ImageDataGenerator\n",
    "from keras.layers import Dense, Dropout, Activation, Flatten\n",
    "from keras.layers import Conv2D, MaxPooling2D\n",
    "from keras import applications\n",
    "from keras.callbacks import ModelCheckpoint, LearningRateScheduler, TensorBoard, EarlyStopping\n",
    "from keras import backend as K\n",
    "\n",
    "import matplotlib.pyplot\n",
    "%matplotlib inline  "
   ]
  },
  {
   "cell_type": "markdown",
   "metadata": {},
   "source": [
    "### Load and Process Data\n",
    "\n",
    "Load the images and rescale and resize images"
   ]
  },
  {
   "cell_type": "code",
   "execution_count": 14,
   "metadata": {
    "collapsed": true
   },
   "outputs": [],
   "source": [
    "train_datagen = ImageDataGenerator(\n",
    "    rescale=1. / 255)"
   ]
  },
  {
   "cell_type": "code",
   "execution_count": 15,
   "metadata": {
    "collapsed": true
   },
   "outputs": [],
   "source": [
    "img_width, img_height = 150, 150\n",
    "\n",
    "train_data_dir = '/home/ubuntu/pynb/datascience/dogsvscats/data/train'\n",
    "validation_data_dir = '/home/ubuntu/pynb/datascience/dogsvscats/data/validation'\n",
    "nb_train_samples = 2000\n",
    "nb_validation_samples = 2000\n",
    "epochs = 40\n",
    "batch_size = 16"
   ]
  },
  {
   "cell_type": "code",
   "execution_count": 16,
   "metadata": {},
   "outputs": [
    {
     "name": "stdout",
     "output_type": "stream",
     "text": [
      "Found 20000 images belonging to 2 classes.\n"
     ]
    }
   ],
   "source": [
    "train_generator = train_datagen.flow_from_directory(\n",
    "    train_data_dir,\n",
    "    target_size=(img_width, img_height),\n",
    "    batch_size=batch_size,\n",
    "    class_mode='binary')"
   ]
  },
  {
   "cell_type": "code",
   "execution_count": 17,
   "metadata": {
    "collapsed": true
   },
   "outputs": [],
   "source": [
    "test_datagen = ImageDataGenerator(rescale=1. / 255)"
   ]
  },
  {
   "cell_type": "code",
   "execution_count": 6,
   "metadata": {},
   "outputs": [
    {
     "name": "stdout",
     "output_type": "stream",
     "text": [
      "Found 5000 images belonging to 2 classes.\n"
     ]
    }
   ],
   "source": [
    "validation_generator = test_datagen.flow_from_directory(\n",
    "    validation_data_dir,\n",
    "    target_size=(img_width, img_height),\n",
    "    batch_size=batch_size,\n",
    "    class_mode='binary')"
   ]
  },
  {
   "cell_type": "code",
   "execution_count": 18,
   "metadata": {
    "collapsed": true
   },
   "outputs": [],
   "source": [
    "if K.image_data_format() == 'channels_first':\n",
    "    input_shape = (3, img_width, img_height)\n",
    "else:\n",
    "    input_shape = (img_width, img_height, 3)"
   ]
  },
  {
   "cell_type": "markdown",
   "metadata": {},
   "source": [
    "### Model Definition\n",
    "\n",
    "Download the pre-trained InceptionV3 network and freeze the first 283 layers.\n",
    "\n",
    "Add additional layers to fine tune the model"
   ]
  },
  {
   "cell_type": "code",
   "execution_count": 19,
   "metadata": {
    "collapsed": true
   },
   "outputs": [],
   "source": [
    "model = applications.InceptionV3(weights = \"imagenet\", include_top=False, input_shape = (img_width, img_height, 3))"
   ]
  },
  {
   "cell_type": "code",
   "execution_count": 33,
   "metadata": {},
   "outputs": [
    {
     "data": {
      "text/plain": [
       "310"
      ]
     },
     "execution_count": 33,
     "metadata": {},
     "output_type": "execute_result"
    }
   ],
   "source": [
    "freezelayers = 283"
   ]
  },
  {
   "cell_type": "code",
   "execution_count": 21,
   "metadata": {
    "collapsed": true
   },
   "outputs": [],
   "source": [
    "for layer in model.layers[:freezelayers]:\n",
    "    layer.trainable = False"
   ]
  },
  {
   "cell_type": "code",
   "execution_count": 22,
   "metadata": {
    "collapsed": true
   },
   "outputs": [],
   "source": [
    "x = model.output\n",
    "x = Flatten()(x)\n",
    "x = Dense(512, activation=\"relu\")(x)\n",
    "x = Dropout(0.5)(x)\n",
    "predictions = Dense(1, activation=\"sigmoid\")(x)"
   ]
  },
  {
   "cell_type": "code",
   "execution_count": 12,
   "metadata": {
    "scrolled": true
   },
   "outputs": [
    {
     "name": "stderr",
     "output_type": "stream",
     "text": [
      "/usr/local/lib/python2.7/dist-packages/IPython/kernel/__main__.py:1: UserWarning: Update your `Model` call to the Keras 2 API: `Model(outputs=Tensor(\"de..., inputs=Tensor(\"in...)`\n",
      "  if __name__ == '__main__':\n"
     ]
    }
   ],
   "source": [
    "model_final = Model(input = model.input, output = predictions)"
   ]
  },
  {
   "cell_type": "code",
   "execution_count": 23,
   "metadata": {
    "collapsed": true
   },
   "outputs": [],
   "source": [
    "# compile the model \n",
    "model_final.compile(loss='binary_crossentropy',\n",
    "              optimizer='rmsprop',\n",
    "              metrics=['accuracy'])"
   ]
  },
  {
   "cell_type": "code",
   "execution_count": 24,
   "metadata": {
    "collapsed": true
   },
   "outputs": [],
   "source": [
    "# Save the model according to the conditions  \n",
    "checkpoint = ModelCheckpoint(\"InceptionV3.h5\", monitor='val_acc', verbose=1, save_best_only=True, save_weights_only=False, mode='auto', period=1)\n",
    "early = EarlyStopping(monitor='val_acc', min_delta=0, patience=10, verbose=1, mode='auto')"
   ]
  },
  {
   "cell_type": "markdown",
   "metadata": {},
   "source": [
    "### Model Training"
   ]
  },
  {
   "cell_type": "code",
   "execution_count": 25,
   "metadata": {},
   "outputs": [
    {
     "name": "stdout",
     "output_type": "stream",
     "text": [
      "Epoch 1/40\n",
      "124/125 [============================>.] - ETA: 0s - loss: 2.7904 - acc: 0.7152Epoch 00000: val_acc improved from -inf to 0.52500, saving model to InceptionV3.h5\n",
      "125/125 [==============================] - 90s - loss: 2.7835 - acc: 0.7145 - val_loss: 7.5145 - val_acc: 0.5250\n",
      "Epoch 2/40\n",
      "124/125 [============================>.] - ETA: 0s - loss: 1.1016 - acc: 0.8175Epoch 00001: val_acc improved from 0.52500 to 0.87550, saving model to InceptionV3.h5\n",
      "125/125 [==============================] - 30s - loss: 1.1014 - acc: 0.8170 - val_loss: 1.1567 - val_acc: 0.8755\n",
      "Epoch 3/40\n",
      "124/125 [============================>.] - ETA: 0s - loss: 0.7763 - acc: 0.8342Epoch 00002: val_acc improved from 0.87550 to 0.88454, saving model to InceptionV3.h5\n",
      "125/125 [==============================] - 29s - loss: 0.7724 - acc: 0.8345 - val_loss: 0.8551 - val_acc: 0.8845\n",
      "Epoch 4/40\n",
      "124/125 [============================>.] - ETA: 0s - loss: 0.5480 - acc: 0.8453Epoch 00003: val_acc did not improve\n",
      "125/125 [==============================] - 24s - loss: 0.5495 - acc: 0.8445 - val_loss: 1.8256 - val_acc: 0.7790\n",
      "Epoch 5/40\n",
      "124/125 [============================>.] - ETA: 0s - loss: 0.5364 - acc: 0.8609Epoch 00004: val_acc did not improve\n",
      "125/125 [==============================] - 24s - loss: 0.5349 - acc: 0.8605 - val_loss: 0.8854 - val_acc: 0.8820\n",
      "Epoch 6/40\n",
      "124/125 [============================>.] - ETA: 0s - loss: 0.4290 - acc: 0.8715Epoch 00005: val_acc did not improve\n",
      "125/125 [==============================] - 24s - loss: 0.4266 - acc: 0.8725 - val_loss: 0.7875 - val_acc: 0.8815\n",
      "Epoch 7/40\n",
      "124/125 [============================>.] - ETA: 0s - loss: 0.4883 - acc: 0.8564Epoch 00006: val_acc did not improve\n",
      "125/125 [==============================] - 25s - loss: 0.4912 - acc: 0.8555 - val_loss: 1.0824 - val_acc: 0.8605\n",
      "Epoch 8/40\n",
      "124/125 [============================>.] - ETA: 0s - loss: 0.4854 - acc: 0.8634Epoch 00007: val_acc did not improve\n",
      "125/125 [==============================] - 25s - loss: 0.4835 - acc: 0.8635 - val_loss: 1.0573 - val_acc: 0.8630\n",
      "Epoch 9/40\n",
      "124/125 [============================>.] - ETA: 0s - loss: 0.4553 - acc: 0.8720Epoch 00008: val_acc did not improve\n",
      "125/125 [==============================] - 25s - loss: 0.4547 - acc: 0.8725 - val_loss: 1.0889 - val_acc: 0.8705\n",
      "Epoch 10/40\n",
      "124/125 [============================>.] - ETA: 0s - loss: 0.4519 - acc: 0.8760Epoch 00009: val_acc did not improve\n",
      "125/125 [==============================] - 24s - loss: 0.4513 - acc: 0.8755 - val_loss: 0.8216 - val_acc: 0.8820\n",
      "Epoch 11/40\n",
      "124/125 [============================>.] - ETA: 0s - loss: 0.2822 - acc: 0.9168Epoch 00010: val_acc did not improve\n",
      "125/125 [==============================] - 24s - loss: 0.2807 - acc: 0.9170 - val_loss: 1.1175 - val_acc: 0.8705\n",
      "Epoch 12/40\n",
      "124/125 [============================>.] - ETA: 0s - loss: 0.4240 - acc: 0.8871Epoch 00011: val_acc did not improve\n",
      "125/125 [==============================] - 24s - loss: 0.4296 - acc: 0.8870 - val_loss: 0.7859 - val_acc: 0.8715\n",
      "Epoch 13/40\n",
      "124/125 [============================>.] - ETA: 0s - loss: 0.3733 - acc: 0.8916Epoch 00012: val_acc did not improve\n",
      "125/125 [==============================] - 24s - loss: 0.3723 - acc: 0.8915 - val_loss: 0.7025 - val_acc: 0.8835\n",
      "Epoch 14/40\n",
      "124/125 [============================>.] - ETA: 0s - loss: 0.4002 - acc: 0.8952Epoch 00013: val_acc improved from 0.88454 to 0.89000, saving model to InceptionV3.h5\n",
      "125/125 [==============================] - 27s - loss: 0.4058 - acc: 0.8950 - val_loss: 0.6417 - val_acc: 0.8900\n",
      "Epoch 15/40\n",
      "124/125 [============================>.] - ETA: 0s - loss: 0.4196 - acc: 0.8705Epoch 00014: val_acc improved from 0.89000 to 0.89850, saving model to InceptionV3.h5\n",
      "125/125 [==============================] - 28s - loss: 0.4197 - acc: 0.8705 - val_loss: 0.6274 - val_acc: 0.8985\n",
      "Epoch 16/40\n",
      "124/125 [============================>.] - ETA: 0s - loss: 0.3678 - acc: 0.8901Epoch 00015: val_acc did not improve\n",
      "125/125 [==============================] - 24s - loss: 0.3670 - acc: 0.8895 - val_loss: 0.6965 - val_acc: 0.8860\n",
      "Epoch 17/40\n",
      "124/125 [============================>.] - ETA: 0s - loss: 0.4056 - acc: 0.8896Epoch 00016: val_acc did not improve\n",
      "125/125 [==============================] - 24s - loss: 0.4030 - acc: 0.8905 - val_loss: 0.7849 - val_acc: 0.8810\n",
      "Epoch 18/40\n",
      "124/125 [============================>.] - ETA: 0s - loss: 0.3214 - acc: 0.8947Epoch 00017: val_acc did not improve\n",
      "125/125 [==============================] - 24s - loss: 0.3240 - acc: 0.8945 - val_loss: 0.5983 - val_acc: 0.8980\n",
      "Epoch 19/40\n",
      "124/125 [============================>.] - ETA: 0s - loss: 0.4218 - acc: 0.8800Epoch 00018: val_acc improved from 0.89850 to 0.90010, saving model to InceptionV3.h5\n",
      "125/125 [==============================] - 29s - loss: 0.4188 - acc: 0.8810 - val_loss: 0.7474 - val_acc: 0.9001\n",
      "Epoch 20/40\n",
      "124/125 [============================>.] - ETA: 0s - loss: 0.3821 - acc: 0.8921Epoch 00019: val_acc did not improve\n",
      "125/125 [==============================] - 24s - loss: 0.3831 - acc: 0.8910 - val_loss: 0.6386 - val_acc: 0.8960\n",
      "Epoch 21/40\n",
      "124/125 [============================>.] - ETA: 0s - loss: 0.3188 - acc: 0.8952Epoch 00020: val_acc did not improve\n",
      "125/125 [==============================] - 24s - loss: 0.3187 - acc: 0.8945 - val_loss: 0.6819 - val_acc: 0.8911\n",
      "Epoch 22/40\n",
      "124/125 [============================>.] - ETA: 0s - loss: 0.3661 - acc: 0.8972Epoch 00021: val_acc did not improve\n",
      "125/125 [==============================] - 24s - loss: 0.3639 - acc: 0.8975 - val_loss: 0.5929 - val_acc: 0.8950\n",
      "Epoch 23/40\n",
      "124/125 [============================>.] - ETA: 0s - loss: 0.3076 - acc: 0.8987Epoch 00022: val_acc improved from 0.90010 to 0.90450, saving model to InceptionV3.h5\n",
      "125/125 [==============================] - 31s - loss: 0.3057 - acc: 0.8995 - val_loss: 0.4492 - val_acc: 0.9045\n",
      "Epoch 24/40\n",
      "124/125 [============================>.] - ETA: 0s - loss: 0.2948 - acc: 0.9143Epoch 00023: val_acc did not improve\n",
      "125/125 [==============================] - 25s - loss: 0.2937 - acc: 0.9145 - val_loss: 0.5442 - val_acc: 0.9041\n",
      "Epoch 25/40\n",
      "124/125 [============================>.] - ETA: 0s - loss: 0.2307 - acc: 0.9199Epoch 00024: val_acc did not improve\n",
      "125/125 [==============================] - 25s - loss: 0.2311 - acc: 0.9195 - val_loss: 0.4989 - val_acc: 0.8970\n",
      "Epoch 26/40\n",
      "124/125 [============================>.] - ETA: 0s - loss: 0.2815 - acc: 0.9108Epoch 00025: val_acc improved from 0.90450 to 0.91516, saving model to InceptionV3.h5\n",
      "125/125 [==============================] - 31s - loss: 0.2802 - acc: 0.9110 - val_loss: 0.5240 - val_acc: 0.9152\n",
      "Epoch 27/40\n",
      "124/125 [============================>.] - ETA: 0s - loss: 0.2784 - acc: 0.9042Epoch 00026: val_acc did not improve\n",
      "125/125 [==============================] - 24s - loss: 0.2782 - acc: 0.9040 - val_loss: 0.6140 - val_acc: 0.8995\n",
      "Epoch 28/40\n",
      "124/125 [============================>.] - ETA: 0s - loss: 0.3405 - acc: 0.9128Epoch 00027: val_acc did not improve\n",
      "125/125 [==============================] - 24s - loss: 0.3386 - acc: 0.9130 - val_loss: 0.5161 - val_acc: 0.8991\n",
      "Epoch 29/40\n",
      "124/125 [============================>.] - ETA: 0s - loss: 0.2975 - acc: 0.9108Epoch 00028: val_acc did not improve\n",
      "125/125 [==============================] - 24s - loss: 0.2959 - acc: 0.9110 - val_loss: 0.4491 - val_acc: 0.9020\n",
      "Epoch 30/40\n",
      "124/125 [============================>.] - ETA: 0s - loss: 0.2993 - acc: 0.9042Epoch 00029: val_acc did not improve\n",
      "125/125 [==============================] - 24s - loss: 0.3001 - acc: 0.9040 - val_loss: 0.3410 - val_acc: 0.9080\n",
      "Epoch 31/40\n",
      "124/125 [============================>.] - ETA: 0s - loss: 0.2754 - acc: 0.9068Epoch 00030: val_acc did not improve\n",
      "125/125 [==============================] - 24s - loss: 0.2742 - acc: 0.9065 - val_loss: 0.4870 - val_acc: 0.9056\n",
      "Epoch 32/40\n",
      "124/125 [============================>.] - ETA: 0s - loss: 0.2614 - acc: 0.9178Epoch 00031: val_acc did not improve\n",
      "125/125 [==============================] - 24s - loss: 0.2597 - acc: 0.9185 - val_loss: 0.4803 - val_acc: 0.9025\n",
      "Epoch 33/40\n",
      "124/125 [============================>.] - ETA: 0s - loss: 0.3040 - acc: 0.9032Epoch 00032: val_acc improved from 0.91516 to 0.91566, saving model to InceptionV3.h5\n"
     ]
    },
    {
     "name": "stdout",
     "output_type": "stream",
     "text": [
      "125/125 [==============================] - 31s - loss: 0.3033 - acc: 0.9030 - val_loss: 0.3864 - val_acc: 0.9157\n",
      "Epoch 34/40\n",
      "124/125 [============================>.] - ETA: 0s - loss: 0.2665 - acc: 0.9113Epoch 00033: val_acc did not improve\n",
      "125/125 [==============================] - 25s - loss: 0.2668 - acc: 0.9115 - val_loss: 0.5939 - val_acc: 0.8960\n",
      "Epoch 35/40\n",
      "124/125 [============================>.] - ETA: 0s - loss: 0.2272 - acc: 0.9244Epoch 00034: val_acc did not improve\n",
      "125/125 [==============================] - 24s - loss: 0.2273 - acc: 0.9235 - val_loss: 0.4036 - val_acc: 0.9116\n",
      "Epoch 36/40\n",
      "124/125 [============================>.] - ETA: 0s - loss: 0.2713 - acc: 0.9183Epoch 00035: val_acc did not improve\n",
      "125/125 [==============================] - 24s - loss: 0.2722 - acc: 0.9185 - val_loss: 0.4006 - val_acc: 0.9065\n",
      "Epoch 37/40\n",
      "124/125 [============================>.] - ETA: 0s - loss: 0.2725 - acc: 0.9133Epoch 00036: val_acc did not improve\n",
      "125/125 [==============================] - 24s - loss: 0.2714 - acc: 0.9135 - val_loss: 0.4410 - val_acc: 0.9070\n",
      "Epoch 38/40\n",
      "124/125 [============================>.] - ETA: 0s - loss: 0.2638 - acc: 0.9183Epoch 00037: val_acc did not improve\n",
      "125/125 [==============================] - 24s - loss: 0.2656 - acc: 0.9175 - val_loss: 0.4362 - val_acc: 0.9096\n",
      "Epoch 39/40\n",
      "124/125 [============================>.] - ETA: 0s - loss: 0.3037 - acc: 0.9002Epoch 00038: val_acc improved from 0.91566 to 0.91700, saving model to InceptionV3.h5\n",
      "125/125 [==============================] - 31s - loss: 0.3021 - acc: 0.9005 - val_loss: 0.3692 - val_acc: 0.9170\n",
      "Epoch 40/40\n",
      "124/125 [============================>.] - ETA: 0s - loss: 0.2490 - acc: 0.9173Epoch 00039: val_acc did not improve\n",
      "125/125 [==============================] - 24s - loss: 0.2500 - acc: 0.9165 - val_loss: 0.4081 - val_acc: 0.9157\n"
     ]
    }
   ],
   "source": [
    "history = model_final.fit_generator(\n",
    "    train_generator,\n",
    "    steps_per_epoch=nb_train_samples // batch_size,\n",
    "    epochs=epochs,\n",
    "    validation_data=validation_generator,\n",
    "    validation_steps=nb_validation_samples // batch_size,\n",
    "    verbose=1, callbacks = [checkpoint, early])"
   ]
  },
  {
   "cell_type": "markdown",
   "metadata": {},
   "source": [
    "### Visualizing of Bias-Variance Trade-off"
   ]
  },
  {
   "cell_type": "code",
   "execution_count": 27,
   "metadata": {},
   "outputs": [
    {
     "data": {
      "image/png": "[encoded data removed]",
      "text/plain": [
       "<matplotlib.figure.Figure at 0x7fdaa400b310>"
      ]
     },
     "metadata": {},
     "output_type": "display_data"
    }
   ],
   "source": [
    "%matplotlib inline\n",
    "\n",
    "from matplotlib import pyplot\n",
    "\n",
    "pyplot.plot(history.history['loss'], linewidth=3, label=\"train\")\n",
    "pyplot.plot(history.history['val_loss'], linewidth=3, label=\"valid\")\n",
    "pyplot.grid()\n",
    "pyplot.legend()\n",
    "pyplot.xlabel(\"epoch\")\n",
    "pyplot.ylabel(\"loss\")\n",
    "#pyplot.ylim(1e-3, 1e-1)\n",
    "#pyplot.yscale(\"log\")\n",
    "pyplot.show()"
   ]
  }
 ],
 "metadata": {
  "hide_input": false,
  "kernelspec": {
   "display_name": "Python 3",
   "language": "python",
   "name": "python3"
  },
  "language_info": {
   "codemirror_mode": {
    "name": "ipython",
    "version": 3
   },
   "file_extension": ".py",
   "mimetype": "text/x-python",
   "name": "python",
   "nbconvert_exporter": "python",
   "pygments_lexer": "ipython3",
   "version": "3.6.0"
  }
 },
 "nbformat": 4,
 "nbformat_minor": 2
}
